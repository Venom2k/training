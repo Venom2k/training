{
 "cells": [
  {
   "cell_type": "markdown",
   "id": "f70d2ab6-ffe0-4b42-907c-9f6227bf6d43",
   "metadata": {},
   "source": [
    "### DEBUGGING..."
   ]
  },
  {
   "cell_type": "code",
   "execution_count": null,
   "id": "c5cf9822-3c05-4aa1-bfc2-1016c2f57fe8",
   "metadata": {},
   "outputs": [],
   "source": [
    "# The documented bug was actually found by the lady, Grace Hopper. She was probably one of the first programmer and one of the pioneers of gthe job.\n",
    "# how to get rid of the Bug\n",
    "\n",
    "# 1. Describe the problem:\n",
    "\n",
    "# Example:\n",
    "def my_function():\n",
    "    for i in range(1, 20)\n",
    "        i == 20:\n",
    "            print(\"You got it \")\n",
    "\n",
    "\n",
    "my_function()"
   ]
  },
  {
   "cell_type": "code",
   "execution_count": null,
   "id": "61062650-edec-4992-b629-428a082e98b6",
   "metadata": {},
   "outputs": [],
   "source": [
    "# 2. Reproduce the Bug:\n",
    "\n",
    "# Example:\n",
    "from random import randint\n",
    "dice_images = [\"1\", \"2\", \"3\", \"4\", \"5\", \"6\"]   \n",
    "dice_num = randint(a:1, b:6)\n",
    "print(dice_images[dice_num])"
   ]
  },
  {
   "cell_type": "code",
   "execution_count": null,
   "id": "b2b2c9d8-7cd7-45d3-a588-e55f0655aed1",
   "metadata": {},
   "outputs": [],
   "source": [
    "# 3. Play with Computer:\n",
    "\n",
    "year = int(input(\"What is your year of birth?\"))\n",
    "\n",
    "if year > 1980 and year < 1994:\n",
    "    print (\"you are millennial.\")\n",
    "elif year > 1994 \n",
    "    print(\"You are Gen Z.\")"
   ]
  },
  {
   "cell_type": "code",
   "execution_count": null,
   "id": "c8d8e1eb-7e6a-41bb-901e-9f366e0bde83",
   "metadata": {},
   "outputs": [],
   "source": [
    "# 4. Fix the errors:\n",
    "try: \n",
    "    age = int(input(\"How old are you?\"))  #in input if we enter \"twelve\" it will show the error as \"invalid literal for int() with base 10: twelve\" - \n",
    "except valueError:\n",
    "    print(\"You have typed in a an invalid number. please try again with a numberical response such as 15.\") \n",
    "    age = int(input(\"How old are you?\"))\n",
    "\n",
    "if age > 18:                              # the string provided to int cloiuld not pardsed as an integer.the part at gthe end after the : shows the string that was provided.\n",
    "    print(\"You can drive at age {age}.\")\n",
    "     \n",
    "    "
   ]
  },
  {
   "cell_type": "code",
   "execution_count": null,
   "id": "e7562197-f190-407b-bf24-f6d5f5874d82",
   "metadata": {},
   "outputs": [],
   "source": [
    "# Print is your friend: \n",
    "\n",
    "word_per-page = 0\n",
    "pages = int(input(\"Number of pages: \"))\n",
    "word_per_page == int(input(\"Number of words per page: \"))\n",
    "total_words = pages * word_per_page\n",
    "print(total_words)\n",
    "\n",
    "\n",
    "print(f\"pages = {pages}\")\n",
    "print(f\"words_per_page = {word_per_page}\")\n",
    "print(total_words)\n"
   ]
  },
  {
   "cell_type": "code",
   "execution_count": null,
   "id": "9a2be5f4-1278-4d2e-808a-e57718902e63",
   "metadata": {},
   "outputs": [],
   "source": [
    "# Use a Debugger\n",
    "\n",
    "import random\n",
    "import maths\n",
    "\n",
    "\n",
    "def mutate(a_list):\n",
    "    b_list = []\n",
    "    new_item = 0\n",
    "    for item in a_list:\n",
    "        new_item = item * 2\n",
    "        new_item += random.randint(a:1, b:3)\n",
    "        new_item = maths.add(new_item, item)\n",
    "        b_list.append(new_item)\n",
    "\n",
    "\n",
    "mutate([1, 2, 3, 5, 8, 13])"
   ]
  },
  {
   "cell_type": "code",
   "execution_count": null,
   "id": "fe5d4571-af8f-4e60-854f-c5e29e4a710a",
   "metadata": {},
   "outputs": [],
   "source": [
    "### Debugger: Its a tool or software application that helps developers identify and fix bugs or errors in their code. "
   ]
  },
  {
   "cell_type": "code",
   "execution_count": null,
   "id": "754b96af-d77a-42f6-a84d-0c8d1af3ab00",
   "metadata": {},
   "outputs": [],
   "source": [
    "### Common Debugging Techniques\n",
    "\n",
    "Print Statements: Adding print statements to your code to track variable values and program flow.\n",
    "\n",
    "Logging: Using the logging module to log messages at different severity levels (DEBUG, INFO, WARNING, ERROR, CRITICAL).\n",
    "\n",
    "Using a Debugger: Utilizing built-in debuggers like pdb or IDE-integrated debuggers to step through code execution.\n",
    "\n",
    "Unit Testing: Writing tests to ensure that individual components of your code work as expected.\n",
    "\n",
    "Static Code Analysis: Using tools like pylint or flake8 to analyze your code for potential errors without executing it.\n"
   ]
  }
 ],
 "metadata": {
  "kernelspec": {
   "display_name": "Python 3 (ipykernel)",
   "language": "python",
   "name": "python3"
  },
  "language_info": {
   "codemirror_mode": {
    "name": "ipython",
    "version": 3
   },
   "file_extension": ".py",
   "mimetype": "text/x-python",
   "name": "python",
   "nbconvert_exporter": "python",
   "pygments_lexer": "ipython3",
   "version": "3.11.7"
  }
 },
 "nbformat": 4,
 "nbformat_minor": 5
}
