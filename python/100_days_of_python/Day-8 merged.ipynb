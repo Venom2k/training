{
 "cells": [
  {
   "cell_type": "code",
   "execution_count": null,
   "id": "d4083dba-4112-458d-88ba-d1b9aeb2d293",
   "metadata": {},
   "outputs": [],
   "source": [
    "### Your life in weeks\n",
    "\n",
    "def life_in_weeks(age):\n",
    "    years_remaining = 90 - age\n",
    "    weeks_remaining = years_remaining * 52\n",
    "    print(f\"You have {weeks_remaining} weeks left.\")\n",
    " \n",
    " \n",
    "life_in_weeks(12)"
   ]
  },
  {
   "cell_type": "code",
   "execution_count": null,
   "id": "786556b3-e498-418c-b649-c2f690b0a9a0",
   "metadata": {},
   "outputs": [],
   "source": []
  },
  {
   "cell_type": "code",
   "execution_count": null,
   "id": "7f924956-25de-4a8f-adfa-7ef94324beb0",
   "metadata": {},
   "outputs": [],
   "source": [
    "### Love Calculator\n",
    "\n",
    "def calculate_love_score(name1, name2):\n",
    "    combined_names = name1 + name2\n",
    "    lower_names = combined_names.lower()\n",
    "    \n",
    "    t = lower_names.count(\"t\")\n",
    "    r = lower_names.count(\"r\")\n",
    "    u = lower_names.count(\"u\")\n",
    "    e = lower_names.count(\"e\")\n",
    "    first_digit = t + r + u + e\n",
    "    \n",
    "    l = lower_names.count(\"l\")\n",
    "    o = lower_names.count(\"o\")\n",
    "    v = lower_names.count(\"v\")\n",
    "    e = lower_names.count(\"e\")\n",
    "    second_digit = l + o + v + e\n",
    "    \n",
    "    \n",
    "    score = int(str(first_digit) + str(second_digit))\n",
    "    print(score)\n",
    "    \n",
    "calculate_love_score(\"Johnny\", \"Angelina\")"
   ]
  }
 ],
 "metadata": {
  "kernelspec": {
   "display_name": "Python 3 (ipykernel)",
   "language": "python",
   "name": "python3"
  },
  "language_info": {
   "codemirror_mode": {
    "name": "ipython",
    "version": 3
   },
   "file_extension": ".py",
   "mimetype": "text/x-python",
   "name": "python",
   "nbconvert_exporter": "python",
   "pygments_lexer": "ipython3",
   "version": "3.11.7"
  }
 },
 "nbformat": 4,
 "nbformat_minor": 5
}
