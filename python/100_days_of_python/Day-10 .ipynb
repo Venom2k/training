{
 "cells": [
  {
   "cell_type": "markdown",
   "id": "b12b1d4d-300c-46be-a3d9-4870510ccca3",
   "metadata": {},
   "source": [
    "#### functions and output /inputs "
   ]
  },
  {
   "cell_type": "code",
   "execution_count": null,
   "id": "b86dbcfa-c2c5-496c-b267-04938a595317",
   "metadata": {},
   "outputs": [],
   "source": [
    "def format_name(f_name, l_name):\n",
    "    print(f_name.title())\n",
    "    print(l_name.title())\n",
    "    return f\"{formated_f__name} {formatted_l_name}\"\n",
    "\n",
    "\n",
    "print(format_name(f_name:\"AnGela\" , l_name:\"YU\"))\n",
    "\n",
    "output = len(\"Angela\")\n"
   ]
  },
  {
   "cell_type": "code",
   "execution_count": null,
   "id": "6b7a417f-e121-4ed9-a062-75ffcfed41d7",
   "metadata": {},
   "outputs": [],
   "source": [
    "### Love calcultor...\n",
    "def calculate_love_score(name1, name2):\n",
    "    combined_names = name1 + name2\n",
    "    lower_names = combined_names.lower()\n",
    "    t = lower_names.count(\"t\")\n",
    "    r = lower_names.count(\"r\")\n",
    "    u = lower_names.count(\"u\")\n",
    "    e = lower_names.count(\"e\")\n",
    "    first_digit = t + r + u + e\n",
    "    \n",
    "    l = lower_names.count(\"l\")\n",
    "    o = lower_names.count(\"o\")\n",
    "    v = lower_names.count(\"v\")\n",
    "    e = lower_names.count(\"e\")\n",
    "    second_digit = l + o + v + e\n",
    "    \n",
    "    \n",
    "    score = int(str(first_digit) + str(second_digit))\n",
    "    print(score)\n",
    "    \n",
    "calculate_love_score(\"Johnny\", \"Angelina\")"
   ]
  },
  {
   "cell_type": "code",
   "execution_count": null,
   "id": "708bb730-84f1-4919-9d47-10936e9434d0",
   "metadata": {},
   "outputs": [],
   "source": [
    "\n",
    "### examples using all types orf arguments \n",
    "def fn(a,b=0,c=20):\n",
    "    return a+b+c\n",
    "fn(5,b=6,c=30)\n",
    "print(fn(5,c=10,b=0))\n",
    "print(fn(100,20,30))"
   ]
  },
  {
   "cell_type": "code",
   "execution_count": null,
   "id": "e3af293b-5f7e-49ea-aad4-39c743035e3c",
   "metadata": {},
   "outputs": [],
   "source": [
    "### function has two two types of paramaters/arguements\n",
    "### 1) positional arugments or  manadatory arugments\n",
    "### 2) non-positional arguments or keyword arguments  or optional arguments\n",
    "### args and kwargs\n",
    "\n",
    "\n"
   ]
  },
  {
   "cell_type": "code",
   "execution_count": null,
   "id": "4a18f606-bc66-4113-a3e5-ab11d944160d",
   "metadata": {},
   "outputs": [],
   "source": [
    "def func(param1,param2):\n",
    "    ''' this is an example of function having only positional arugments or args '''\n",
    "    return param1+param2\n",
    "func(1,2)"
   ]
  },
  {
   "cell_type": "code",
   "execution_count": null,
   "id": "b74b7bcd-fc74-41ef-b51e-ec105e3d71a9",
   "metadata": {},
   "outputs": [],
   "source": [
    "def func(param1=10,param2=20):\n",
    "    ''' this is an example of function having only non-positional arugments'''\n",
    "    print(f\"param1={param1}\")\n",
    "    print(f\"param2={param2}\")\n",
    "    return param1+param2\n",
    "func() ### here i dont need to  pass any params , when i dont pass any params ,  it will take the default values in the function definition\n",
    "func(param2=20,param1=30) ### even when  i change the order , it  does not matter. so they are called non-positional arugments. "
   ]
  },
  {
   "cell_type": "code",
   "execution_count": null,
   "id": "3629fe96-0ba6-4631-bb41-7e5b2f94dd70",
   "metadata": {},
   "outputs": [],
   "source": [
    "### concept of *args and **kwargs \n",
    "\n",
    "### args for using variable number of  positional arguments. \n",
    "\n",
    "def func_sum_all(*args):\n",
    "    input=args[0]\n",
    "    print(input)\n",
    "    return sum(input)\n",
    "\n",
    "func_sum_all([1,2,3,4,5,6,7,8,9,10])"
   ]
  },
  {
   "cell_type": "code",
   "execution_count": null,
   "id": "cf298766-5e2a-412c-915f-e4e25d1039bf",
   "metadata": {
    "scrolled": true
   },
   "outputs": [],
   "source": [
    "### keyword arguments or ** kwargs \n",
    "## **kwargs is used for  varioable number of keyword arguments. \n",
    "\n",
    "def func_sum_all_values(*kwargs):\n",
    "    print(kwargs[0])\n",
    "    out=0\n",
    "    for key,value in kwargs[0].items():\n",
    "        print(key,value)\n",
    "        out+=value\n",
    "    return out\n",
    "        \n",
    "\n",
    "total=func_sum_all_values({'a':5,'b':8,'c':26})\n",
    "print(total)\n",
    "\n",
    "        "
   ]
  },
  {
   "cell_type": "code",
   "execution_count": null,
   "id": "bd272974-5b9e-4e9b-a1ca-50e3a2e4bd21",
   "metadata": {},
   "outputs": [],
   "source": [
    "student_detail = {\n",
    "                  \"Harry\" : {\"Tamil\":50, \"English\":60, \"Maths\":55, \"Science\":70, \"Social\":90},\n",
    "                  \"Ron\" : {\"Tamil\":60, \"English\":70, \"Maths\":65, \"Science\":80, \"Social\":100},\n",
    "                  \"Hermione\" : {\"Tamil\":70, \"English\":80, \"Maths\":75, \"Science\":90, \"Social\":80},\n",
    "                  \"Draco\" : {\"Tamil\":80, \"English\":90, \"Maths\":85, \"Science\":100, \"Social\":70},\n",
    "                  \"Neville\" : {\"Tamil\":90, \"English\":100, \"Maths\":95, \"Science\":600, \"Social\":60},\n",
    "}"
   ]
  },
  {
   "cell_type": "code",
   "execution_count": 2,
   "id": "f8c08b7a-469f-44b0-8561-b0d5fd4b312d",
   "metadata": {},
   "outputs": [
    {
     "ename": "NameError",
     "evalue": "name 'student_detail' is not defined",
     "output_type": "error",
     "traceback": [
      "\u001b[1;31m---------------------------------------------------------------------------\u001b[0m",
      "\u001b[1;31mNameError\u001b[0m                                 Traceback (most recent call last)",
      "Cell \u001b[1;32mIn[2], line 8\u001b[0m\n\u001b[0;32m      5\u001b[0m         \u001b[38;5;28;01mfor\u001b[39;00m subject,marks \u001b[38;5;129;01min\u001b[39;00m value\u001b[38;5;241m.\u001b[39mitems():\n\u001b[0;32m      6\u001b[0m             \u001b[38;5;28mprint\u001b[39m(\u001b[38;5;124mf\u001b[39m\u001b[38;5;124m'\u001b[39m\u001b[38;5;124mstudent \u001b[39m\u001b[38;5;132;01m{\u001b[39;00mkey\u001b[38;5;132;01m}\u001b[39;00m\u001b[38;5;124m got \u001b[39m\u001b[38;5;132;01m{\u001b[39;00mmarks\u001b[38;5;132;01m}\u001b[39;00m\u001b[38;5;124m marks in  subject \u001b[39m\u001b[38;5;132;01m{\u001b[39;00msubject\u001b[38;5;132;01m}\u001b[39;00m\u001b[38;5;124m'\u001b[39m)\n\u001b[1;32m----> 8\u001b[0m value\u001b[38;5;241m=\u001b[39mfunc_with_kwargs(student_detail\u001b[38;5;241m=\u001b[39mstudent_detail)\n\u001b[0;32m      9\u001b[0m \u001b[38;5;28mprint\u001b[39m(value)\n",
      "\u001b[1;31mNameError\u001b[0m: name 'student_detail' is not defined"
     ]
    }
   ],
   "source": [
    "def func_with_kwargs(**kwargs):\n",
    "    student_mark_details=kwargs['student_detail']\n",
    "    print(student_mark_details)\n",
    "    for key,value in student_mark_details.items():\n",
    "        for subject,marks in value.items():\n",
    "            print(f'student {key} got {marks} marks in  subject {subject}')\n",
    "\n",
    "value=func_with_kwargs(student_detail=student_detail)\n",
    "print(value)"
   ]
  },
  {
   "cell_type": "code",
   "execution_count": 1,
   "id": "1cbc649e-9162-4416-a101-d21cafe32501",
   "metadata": {},
   "outputs": [
    {
     "name": "stdout",
     "output_type": "stream",
     "text": [
      "addition of  values  is 11\n",
      "subtraction of  values  is -1\n",
      "multiplication of  values  is 30\n",
      "division of  values  is 0.8333333333333334\n"
     ]
    }
   ],
   "source": [
    "### returning multiple values  and packing and unpacking of multiple values \n",
    "def func(a,b):\n",
    "    return a+b,a-b,a*b,a/b\n",
    "add,sub,mul,div=func(5,6)\n",
    "print(f'addition of  values  is {add}')\n",
    "print(f'subtraction of  values  is {sub}')\n",
    "print(f'multiplication of  values  is {mul}')\n",
    "print(f'division of  values  is {div}')"
   ]
  },
  {
   "cell_type": "code",
   "execution_count": null,
   "id": "8455076a-9e9a-4d81-9544-e02654ec25bb",
   "metadata": {},
   "outputs": [],
   "source": []
  }
 ],
 "metadata": {
  "kernelspec": {
   "display_name": "Python 3 (ipykernel)",
   "language": "python",
   "name": "python3"
  },
  "language_info": {
   "codemirror_mode": {
    "name": "ipython",
    "version": 3
   },
   "file_extension": ".py",
   "mimetype": "text/x-python",
   "name": "python",
   "nbconvert_exporter": "python",
   "pygments_lexer": "ipython3",
   "version": "3.11.7"
  }
 },
 "nbformat": 4,
 "nbformat_minor": 5
}
