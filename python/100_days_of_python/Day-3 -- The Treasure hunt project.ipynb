{
 "cells": [
  {
   "cell_type": "code",
   "execution_count": null,
   "id": "3a19eaf2-e127-42be-8ead-3b04015681d1",
   "metadata": {},
   "outputs": [
    {
     "name": "stdout",
     "output_type": "stream",
     "text": [
      "Welcome to Treasure Isalnd.\n",
      "Your mission is to find the treasure.\n"
     ]
    }
   ],
   "source": [
    "print(\"Welcome to Treasure Isalnd.\")\n",
    "print(\"Your mission is to find the treasure.\")\n",
    "choice1 = input('You\\'re at a crossroad, where do want to go?'\n",
    "                'Type \"left\" or \"right\".\\n').lower()\n",
    "\n",
    "if choice1 == \"left\":\n",
    "    choice2 = input('You\\'ve come to a lake.'\n",
    "              'There is an island in the middle of the lake.'\n",
    "              'Type \"wait\" to wait for a boat.'\n",
    "              'Type \"swim\" to swim across.\\n').lower()\n",
    "    if choice2 == \"wait\":\n",
    "        choice3 = input(\"You arrive at the  island unharmed. \"\n",
    "                        \"There is house with 3 doors. One red, \"\n",
    "                        \"one yellow and one blue. \"\n",
    "                        \"Which colour do you choose?\\n\").lower()\n",
    "        if choice3 == \"red\":\n",
    "            print(\"It is a room full of fire. Game Over\")\n",
    "        elif choice3 ==\"Yellow\":\n",
    "            print(\"You found the teasure.You Win!\")\n",
    "        elif choice3 ==\"blue\":\n",
    "            print(\"You enter a room of beasts. Game Over.\")\n",
    "        else:\n",
    "            print(\"You choose a door that doesn't exist. Game Over.\")\n",
    "    else:\n",
    "        print(\"You got attacked by an angry trout .Game Over.\")\n",
    "else:\n",
    "    print(\"YOu fell in to a hole. Game Over.\")\n",
    "               "
   ]
  },
  {
   "cell_type": "code",
   "execution_count": null,
   "id": "cf05ed66-75aa-4ae0-87c3-4735923e084e",
   "metadata": {},
   "outputs": [],
   "source": []
  },
  {
   "cell_type": "code",
   "execution_count": null,
   "id": "76c7324f-afdf-4ab7-8938-07eea53fa395",
   "metadata": {},
   "outputs": [],
   "source": []
  }
 ],
 "metadata": {
  "kernelspec": {
   "display_name": "Python 3 (ipykernel)",
   "language": "python",
   "name": "python3"
  },
  "language_info": {
   "codemirror_mode": {
    "name": "ipython",
    "version": 3
   },
   "file_extension": ".py",
   "mimetype": "text/x-python",
   "name": "python",
   "nbconvert_exporter": "python",
   "pygments_lexer": "ipython3",
   "version": "3.11.7"
  }
 },
 "nbformat": 4,
 "nbformat_minor": 5
}
