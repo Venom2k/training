{
 "cells": [
  {
   "cell_type": "markdown",
   "id": "cf9ba0f8-84d5-477f-97f7-2b7ea7202809",
   "metadata": {},
   "source": [
    "### Namespaces: Local vs Global Scope actioon()"
   ]
  },
  {
   "cell_type": "code",
   "execution_count": 3,
   "id": "9d5fd346-4716-4f46-9ff8-7493b9c2504c",
   "metadata": {},
   "outputs": [
    {
     "name": "stdout",
     "output_type": "stream",
     "text": [
      "300\n"
     ]
    }
   ],
   "source": [
    "# Scope : A variable is only available from inside the region it is created. This is called scope.\n",
    "\n",
    "\n",
    "def myfunc():\n",
    "  x = 300\n",
    "  print(x)\n",
    "\n",
    "myfunc()"
   ]
  },
  {
   "cell_type": "code",
   "execution_count": 6,
   "id": "7f6bdddd-9eac-4494-ace3-bd8f984d72b6",
   "metadata": {},
   "outputs": [
    {
     "name": "stdout",
     "output_type": "stream",
     "text": [
      "2\n",
      "10\n",
      "2\n",
      "10\n",
      "10\n"
     ]
    }
   ],
   "source": [
    "### Global Scope: A variable created in the main body of the Python code is a global variable and belongs to the global scope.\n",
    "\n",
    "### if we print this code , it will print the output as 10 not 2 because , the value 2 is in local scope so it can not be used...  \n",
    "\n",
    "\n",
    "player_health = 10           \n",
    "def drink_potion():\n",
    "    potion_strength = 2\n",
    "    print(player_health)\n",
    "    \n",
    "\n",
    "### Local Scope : A variable created inside a function belongs to the local scope of that function, and can only be used inside that fundef drink_potion():\n",
    "potion_strength = 2\n",
    "print(potion_strength)\n",
    "\n",
    "\n",
    "drink_potion()\n",
    "print(potion_strength)\n",
    "\n",
    "drink_potion()\n",
    "print(player_health)\n",
    "\n",
    "\n",
    "### The only difference between global scope and loacal scope is where you definbe or where tyou create your variables or your functions...."
   ]
  },
  {
   "cell_type": "code",
   "execution_count": 6,
   "id": "d804afe9-b4c4-4803-80e4-27f66a4eaa94",
   "metadata": {},
   "outputs": [
    {
     "name": "stdout",
     "output_type": "stream",
     "text": [
      "Skeleton\n"
     ]
    }
   ],
   "source": [
    "### Block Scope : refers to the scope of variables and functions that are defined within a block of code,such as within a pair of curly braces {}. \n",
    "\n",
    "game_level = 3\n",
    "enemies = [\"Skeleton\", \"Zombie\", \"Alien\"]\n",
    "\n",
    "#def create_enemy():\n",
    "if game_level < 5:\n",
    "        new_enemy = enemies[0]\n",
    "\n",
    "print(new_enemy)"
   ]
  },
  {
   "cell_type": "code",
   "execution_count": null,
   "id": "4de24b56-2a41-4dfb-a47a-a65cced4a96b",
   "metadata": {},
   "outputs": [],
   "source": [
    "### Prime number checker Problem...\n",
    "\n",
    "def is_prime(num):\n",
    "    if num == 2:\n",
    "        return True\n",
    "    if num == 1:\n",
    "        return False\n",
    " \n",
    "    # Loop through all the numbers between 2 and the number\n",
    "    for i in range(2, num):\n",
    "        # Check if the number (num) can be divided by the potential prime number\n",
    "        if num % i == 0:\n",
    "            return False\n",
    " \n",
    "    # this return is outside the for loop which will only run once the loop finishes and none of the numbers are divisible. Therefore it is prime.\n",
    "    return True"
   ]
  },
  {
   "cell_type": "code",
   "execution_count": null,
   "id": "5142dd55-fe70-408c-89bd-308629fc51c4",
   "metadata": {},
   "outputs": [],
   "source": [
    "### Global variables: variables that are declared outside of a function are known as global variables. You can access global variables in Python both inside and outside the function.\n",
    "### How to modify variables with Global scope...\n",
    "\n",
    "\n",
    "# Global variable\n",
    "my_variable = 10\n",
    "\n",
    "def modify_global():\n",
    "    global my_variable  # Declare that we are using the global variable\n",
    "    my_variable += 5    # Modify the global variable\n",
    "\n",
    "print(\"Before modification:\", my_variable)\n",
    "modify_global()\n",
    "print(\"After modification:\", my_variable) "
   ]
  },
  {
   "cell_type": "code",
   "execution_count": null,
   "id": "f1a6ff41-0e01-4370-bf90-4b0ef7f90fd8",
   "metadata": {},
   "outputs": [],
   "source": []
  }
 ],
 "metadata": {
  "kernelspec": {
   "display_name": "Python 3 (ipykernel)",
   "language": "python",
   "name": "python3"
  },
  "language_info": {
   "codemirror_mode": {
    "name": "ipython",
    "version": 3
   },
   "file_extension": ".py",
   "mimetype": "text/x-python",
   "name": "python",
   "nbconvert_exporter": "python",
   "pygments_lexer": "ipython3",
   "version": "3.11.7"
  }
 },
 "nbformat": 4,
 "nbformat_minor": 5
}
