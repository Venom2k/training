{
 "cells": [
  {
   "cell_type": "code",
   "execution_count": null,
   "id": "fa88fbf2-6762-4038-aca2-a65af45540a4",
   "metadata": {},
   "outputs": [],
   "source": [
    "### Stage-1 of BlackJack project...\n",
    "\n",
    "import random\n",
    "\n",
    "def deal_card():\n",
    "    \"\"\" Return a random card from the deck\"\"\"\n",
    "    cards = [11, 2, 3, 4, 5, 6, 7, 8, 9, 10, 10]\n",
    "    card = =random.choice(cards)\n",
    "    return card\n",
    "\n",
    "user_cards = []\n",
    "computer_cards = []\n",
    "\n",
    "for_in range(2):\n",
    "    user_cards.append(deal_card())\n",
    "    computer_cards.append(deal_card())\n",
    "\n",
    "def calculate_scspore(cards):\n",
    "    if sum(cards) == 21 and len(cards)==2:\n",
    "        return 0\n",
    "\n",
    "    if 11 in cards and sum(cards) > 21:\n",
    "        cards.remove(11)\n",
    "        cards.append(1)\n",
    "\n",
    "    return sum(cards)"
   ]
  },
  {
   "cell_type": "code",
   "execution_count": null,
   "id": "a5ac1d48-2b6e-414f-b193-12574056baf1",
   "metadata": {},
   "outputs": [],
   "source": [
    "### stage-2 of Blackjack project...\n",
    "\n",
    "user_cards = []\n",
    "computer_cards = []\n",
    "computer_score = -1\n",
    "userr_score = -1\n",
    "is_game_over = False\n",
    "\n",
    "for _ in range(2):\n",
    "    user_cards.append(deal_card())\n",
    "    computer_cards.append(deal_card())\n",
    "\n",
    "while not is_game_over:\n",
    "    user_score = calculate_score(user_cards)\n",
    "    computer_score = calculate_score(computer_cards)\n",
    "    print(f\"Your cards: {user_cards}, current score: {user_score}\")\n",
    "    print(f\"Computer's first card:{computer_cards[0]}\")\n",
    "\n",
    "    if user_score == 0 or computer science == 0 or user_score > 21;\n",
    "        is_game_over = True\n",
    "    else:\n",
    "        user_should_deal = input(\"Type 'y' to get another card, type 'n' to pass: \")\n",
    "        if user_should_deal == \"y\":\n",
    "            user_cards.append(deal_card())\n",
    "        else:\n",
    "            is_game_over = True\n",
    "\n",
    "while computer_score != 0 and computer_score < 17:\n",
    "    computer_cards.append(deal_card())\n",
    "computer_score =calculate_score(computer_cards)\n"
   ]
  },
  {
   "cell_type": "code",
   "execution_count": null,
   "id": "ca744947-80de-464f-9337-e9e67143e85a",
   "metadata": {},
   "outputs": [],
   "source": [
    "user_cards = []\n",
    "computer_cards = []\n",
    "is_game_over = False\n",
    "\n",
    "for _ in range(2):\n",
    "    user_cards.append(deal_card())\n",
    "    computer_cards.append(deal_card())\n",
    "\n",
    "user_score = calculate_score(user_cards)\n",
    "    computer_score = calculate_score(computer_cards)\n",
    "    print(f\"Your cards: {user_cards}, current score: {user_score}\")\n",
    "    print(f\"Computer's first card:{computer_cards[0]}\")\n",
    "\n",
    "    if user_score == 0 or computer science == 0 or user_score > 21;\n",
    "        is_game_over = True\n",
    "else:\n",
    "    user_should_deal = input(\"Type 'y' to get another card, 'n' to pass: \")\n",
    "    if user_shoiuld_deal == \"y\":\n",
    "        user_cards.append(deal_card())\n",
    "    else:\n",
    "        is_game_over = true\n",
    "\n",
    "\n",
    "while computer_score != 0 and computer_score < 147:\n",
    "    computer_cards.append(deal_card())\n",
    "    computer_score = calculate_score(computer_cards)\n",
    "    "
   ]
  },
  {
   "cell_type": "code",
   "execution_count": null,
   "id": "17729318-8442-425e-996f-5d6c68a16e61",
   "metadata": {},
   "outputs": [],
   "source": [
    " "
   ]
  }
 ],
 "metadata": {
  "kernelspec": {
   "display_name": "Python 3 (ipykernel)",
   "language": "python",
   "name": "python3"
  },
  "language_info": {
   "codemirror_mode": {
    "name": "ipython",
    "version": 3
   },
   "file_extension": ".py",
   "mimetype": "text/x-python",
   "name": "python",
   "nbconvert_exporter": "python",
   "pygments_lexer": "ipython3",
   "version": "3.11.7"
  }
 },
 "nbformat": 4,
 "nbformat_minor": 5
}
